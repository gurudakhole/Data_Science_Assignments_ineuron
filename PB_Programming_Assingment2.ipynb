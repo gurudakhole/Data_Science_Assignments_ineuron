{
 "cells": [
  {
   "cell_type": "markdown",
   "id": "9b622fb3",
   "metadata": {},
   "source": [
    "1.\tWrite a Python program to convert kilometers to miles?"
   ]
  },
  {
   "cell_type": "code",
   "execution_count": 3,
   "id": "19063752",
   "metadata": {},
   "outputs": [
    {
     "name": "stdout",
     "output_type": "stream",
     "text": [
      "Give distance in kilometer : 100\n",
      "Distance in miles is 62.137100000000004\n"
     ]
    }
   ],
   "source": [
    "k = float(input(\"Give distance in kilometer : \"))\n",
    "\n",
    "m = 0.621371*k\n",
    "\n",
    "print(f\"Distance in miles is {m}\")"
   ]
  },
  {
   "cell_type": "markdown",
   "id": "df4212b5",
   "metadata": {},
   "source": [
    "2.\tWrite a Python program to convert Celsius to Fahrenheit?"
   ]
  },
  {
   "cell_type": "code",
   "execution_count": 6,
   "id": "b53e83a2",
   "metadata": {},
   "outputs": [
    {
     "name": "stdout",
     "output_type": "stream",
     "text": [
      "Give temperature in celsius : 32\n",
      "Temperature in Fahrenheit is 89.6 \n"
     ]
    }
   ],
   "source": [
    "c = float(input(\"Give temperature in celsius : \"))\n",
    "\n",
    "f = 9/5 * c + 32\n",
    "\n",
    "print(f\"Temperature in Fahrenheit is {f} \")"
   ]
  },
  {
   "cell_type": "markdown",
   "id": "a8ab6df7",
   "metadata": {},
   "source": [
    "3.\tWrite a Python program to display calendar?"
   ]
  },
  {
   "cell_type": "code",
   "execution_count": 25,
   "id": "3567cfed",
   "metadata": {},
   "outputs": [
    {
     "name": "stdout",
     "output_type": "stream",
     "text": [
      "                                  2023\n",
      "\n",
      "      January                   February                   March\n",
      "Mo Tu We Th Fr Sa Su      Mo Tu We Th Fr Sa Su      Mo Tu We Th Fr Sa Su\n",
      "                   1             1  2  3  4  5             1  2  3  4  5\n",
      " 2  3  4  5  6  7  8       6  7  8  9 10 11 12       6  7  8  9 10 11 12\n",
      " 9 10 11 12 13 14 15      13 14 15 16 17 18 19      13 14 15 16 17 18 19\n",
      "16 17 18 19 20 21 22      20 21 22 23 24 25 26      20 21 22 23 24 25 26\n",
      "23 24 25 26 27 28 29      27 28                     27 28 29 30 31\n",
      "30 31\n",
      "\n",
      "       April                      May                       June\n",
      "Mo Tu We Th Fr Sa Su      Mo Tu We Th Fr Sa Su      Mo Tu We Th Fr Sa Su\n",
      "                1  2       1  2  3  4  5  6  7                1  2  3  4\n",
      " 3  4  5  6  7  8  9       8  9 10 11 12 13 14       5  6  7  8  9 10 11\n",
      "10 11 12 13 14 15 16      15 16 17 18 19 20 21      12 13 14 15 16 17 18\n",
      "17 18 19 20 21 22 23      22 23 24 25 26 27 28      19 20 21 22 23 24 25\n",
      "24 25 26 27 28 29 30      29 30 31                  26 27 28 29 30\n",
      "\n",
      "        July                     August                  September\n",
      "Mo Tu We Th Fr Sa Su      Mo Tu We Th Fr Sa Su      Mo Tu We Th Fr Sa Su\n",
      "                1  2          1  2  3  4  5  6                   1  2  3\n",
      " 3  4  5  6  7  8  9       7  8  9 10 11 12 13       4  5  6  7  8  9 10\n",
      "10 11 12 13 14 15 16      14 15 16 17 18 19 20      11 12 13 14 15 16 17\n",
      "17 18 19 20 21 22 23      21 22 23 24 25 26 27      18 19 20 21 22 23 24\n",
      "24 25 26 27 28 29 30      28 29 30 31               25 26 27 28 29 30\n",
      "31\n",
      "\n",
      "      October                   November                  December\n",
      "Mo Tu We Th Fr Sa Su      Mo Tu We Th Fr Sa Su      Mo Tu We Th Fr Sa Su\n",
      "                   1             1  2  3  4  5                   1  2  3\n",
      " 2  3  4  5  6  7  8       6  7  8  9 10 11 12       4  5  6  7  8  9 10\n",
      " 9 10 11 12 13 14 15      13 14 15 16 17 18 19      11 12 13 14 15 16 17\n",
      "16 17 18 19 20 21 22      20 21 22 23 24 25 26      18 19 20 21 22 23 24\n",
      "23 24 25 26 27 28 29      27 28 29 30               25 26 27 28 29 30 31\n",
      "30 31\n",
      "\n"
     ]
    }
   ],
   "source": [
    "import calendar\n",
    "\n",
    "print(calendar.calendar(2023))"
   ]
  },
  {
   "cell_type": "markdown",
   "id": "827cbf25",
   "metadata": {},
   "source": [
    "4.\tWrite a Python program to solve quadratic equation?"
   ]
  },
  {
   "cell_type": "code",
   "execution_count": 40,
   "id": "07720c47",
   "metadata": {},
   "outputs": [
    {
     "name": "stdout",
     "output_type": "stream",
     "text": [
      "Give constant of x*2 : 2\n",
      "Give constant of x : 10\n",
      "Give constant : 8\n",
      "Quadratic equation is 2.0 x*2 + 10.0 x = 8.0\n",
      "Roots of the above quadratic equation are -1.0 and -4.0\n"
     ]
    }
   ],
   "source": [
    "a = float(input(\"Give constant of x*2 : \"))\n",
    "b = float(input(\"Give constant of x : \"))\n",
    "c = float(input(\"Give constant : \"))\n",
    "\n",
    "print(f\"Quadratic equation is {a} x*2 + {b} x = {c}\")\n",
    "\n",
    "d = b**2 - 4*a*c\n",
    "root1 = (-b + (d)**(1/2))/(2*a)\n",
    "root2 = (-b - (d)**(1/2))/(2*a)\n",
    "\n",
    "print(f\"Roots of the above quadratic equation are {root1} and {root2}\")"
   ]
  },
  {
   "cell_type": "markdown",
   "id": "af88aaf5",
   "metadata": {},
   "source": [
    "5.\tWrite a Python program to swap two variables without temp variable?"
   ]
  },
  {
   "cell_type": "code",
   "execution_count": 48,
   "id": "83709fef",
   "metadata": {},
   "outputs": [
    {
     "name": "stdout",
     "output_type": "stream",
     "text": [
      "value of 'a' before swaping it is : 23\n",
      "value of 'b' before swaping it is : 36\n",
      "\n",
      "value of 'a' after swaping it is : 36\n",
      "value of 'b' after swaping it is : 23\n"
     ]
    }
   ],
   "source": [
    "a = input(\"value of 'a' before swaping it is : \")\n",
    "b = input(\"value of 'b' before swaping it is : \")\n",
    "\n",
    "a,b = b,a\n",
    "\n",
    "print(f\"\\nvalue of 'a' after swaping it is : {a}\")\n",
    "print(f\"value of 'b' after swaping it is : {b}\")"
   ]
  }
 ],
 "metadata": {
  "kernelspec": {
   "display_name": "Python 3 (ipykernel)",
   "language": "python",
   "name": "python3"
  },
  "language_info": {
   "codemirror_mode": {
    "name": "ipython",
    "version": 3
   },
   "file_extension": ".py",
   "mimetype": "text/x-python",
   "name": "python",
   "nbconvert_exporter": "python",
   "pygments_lexer": "ipython3",
   "version": "3.11.3"
  }
 },
 "nbformat": 4,
 "nbformat_minor": 5
}
