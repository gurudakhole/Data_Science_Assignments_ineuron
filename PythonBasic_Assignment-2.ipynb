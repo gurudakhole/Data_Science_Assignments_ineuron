{
 "cells": [
  {
   "cell_type": "markdown",
   "id": "534474ea",
   "metadata": {},
   "source": [
    "1. What are the two values of the Boolean data type? How do you write them?"
   ]
  },
  {
   "cell_type": "code",
   "execution_count": 11,
   "id": "5b7fb737",
   "metadata": {},
   "outputs": [
    {
     "name": "stdout",
     "output_type": "stream",
     "text": [
      "True\n",
      "False\n"
     ]
    }
   ],
   "source": [
    "# True and False are the two values of the boolean data type.\n",
    "# We write them as follows\n",
    "\n",
    "t = True\n",
    "f = False\n",
    "print(t)\n",
    "print(f)"
   ]
  },
  {
   "cell_type": "markdown",
   "id": "9fdfa127",
   "metadata": {},
   "source": [
    "2. What are the three different types of Boolean operators?"
   ]
  },
  {
   "cell_type": "code",
   "execution_count": 8,
   "id": "b32647c0",
   "metadata": {},
   "outputs": [],
   "source": [
    "# Three different type of boolean operators are \n",
    "\n",
    "and \n",
    "or \n",
    "not"
   ]
  },
  {
   "cell_type": "markdown",
   "id": "4c072e36",
   "metadata": {},
   "source": [
    "3. Make a list of each Boolean operator's truth tables (i.e. every possible combination of Boolean values for the operator and what it evaluate )."
   ]
  },
  {
   "cell_type": "code",
   "execution_count": 15,
   "id": "11cfa4df",
   "metadata": {},
   "outputs": [
    {
     "data": {
      "text/plain": [
       "True"
      ]
     },
     "execution_count": 15,
     "metadata": {},
     "output_type": "execute_result"
    }
   ],
   "source": [
    "# and \n",
    "True and False is False\n",
    "False and True is False\n",
    "False and False is False\n",
    "True and True is True\n",
    "\n",
    "# or\n",
    "True or False is True\n",
    "False or True is True\n",
    "True or True is True\n",
    "False or False is False\n",
    "\n",
    "# not\n",
    "not True is False\n",
    "not False is True "
   ]
  },
  {
   "cell_type": "markdown",
   "id": "aa46ad84",
   "metadata": {},
   "source": [
    "4. What are the values of the following expressions?    \n",
    "(5 > 4) and (3 == 5)     \n",
    "not (5 > 4)     \n",
    "(5 > 4) or (3 == 5)    \n",
    "not ((5 > 4) or (3 == 5))    \n",
    "(True and True) and (True == False)    \n",
    "(not False) or (not True)    \n"
   ]
  },
  {
   "cell_type": "code",
   "execution_count": 18,
   "id": "6a8145ad",
   "metadata": {},
   "outputs": [
    {
     "name": "stdout",
     "output_type": "stream",
     "text": [
      "False\n",
      "False\n",
      "True\n",
      "False\n",
      "False\n",
      "True\n"
     ]
    }
   ],
   "source": [
    "print((5 > 4) and (3 == 5))\n",
    "print(not (5 > 4))\n",
    "print((5 > 4) or (3 == 5))\n",
    "print(not ((5 > 4) or (3 == 5)))\n",
    "print((True and True) and (True == False))\n",
    "print((not False) or (not True))"
   ]
  },
  {
   "cell_type": "markdown",
   "id": "2162b06f",
   "metadata": {},
   "source": [
    "5. What are the six comparison operators?"
   ]
  },
  {
   "cell_type": "code",
   "execution_count": null,
   "id": "7f8e2b6d",
   "metadata": {},
   "outputs": [],
   "source": [
    "# Six comparison operators are \n",
    "#  < - less than\n",
    "# <= - less than or equal to\n",
    "#  > - greater than\n",
    "# >= - greater than or equal to\n",
    "# == - is equal to\n",
    "# != - is not equal to"
   ]
  },
  {
   "cell_type": "markdown",
   "id": "491dfccd",
   "metadata": {},
   "source": [
    "6. How do you tell the difference between the equal to and assignment operators? Describe a condition and when you would use one."
   ]
  },
  {
   "cell_type": "code",
   "execution_count": 20,
   "id": "4347c540",
   "metadata": {},
   "outputs": [
    {
     "name": "stdout",
     "output_type": "stream",
     "text": [
      "True\n",
      "False\n"
     ]
    }
   ],
   "source": [
    "# Difference between the equal to and assignment operator is that \n",
    "# assignment operator is used to assign a value to a variable and \n",
    "# equal to is used to verify wether the condition is true or false \n",
    "\n",
    "a = 10\n",
    "b = 10\n",
    "c = 3\n",
    "\n",
    "print(a == b)\n",
    "print(a == c)"
   ]
  },
  {
   "cell_type": "markdown",
   "id": "d3f70ca9",
   "metadata": {},
   "source": [
    "7. Identify the three blocks in this code:    \n",
    "spam = 0    \n",
    "if spam == 10:    \n",
    "print('eggs')    \n",
    "if spam > 5:    \n",
    "print('bacon')     \n",
    "else:     \n",
    "print('ham')     \n",
    "print('spam')    \n",
    "print('spam')    "
   ]
  },
  {
   "cell_type": "code",
   "execution_count": 25,
   "id": "d42c4075",
   "metadata": {},
   "outputs": [
    {
     "name": "stdout",
     "output_type": "stream",
     "text": [
      "ham\n",
      "spam\n",
      "spam\n"
     ]
    }
   ],
   "source": [
    "spam = 0\n",
    "if spam == 10:\n",
    "    print('eggs') #Block 1\n",
    "if spam > 5:\n",
    "    print('bacon') #Block 1\n",
    "else:\n",
    "    print('ham') #Block 1\n",
    "    print('spam')\n",
    "    print('spam')"
   ]
  },
  {
   "cell_type": "markdown",
   "id": "65327af6",
   "metadata": {},
   "source": [
    "8. Write code that prints Hello if 1 is stored in spam, prints Howdy if 2 is stored in spam, and prints Greetings! if anything else is stored in spam."
   ]
  },
  {
   "cell_type": "code",
   "execution_count": 4,
   "id": "a46461f5",
   "metadata": {},
   "outputs": [
    {
     "name": "stdout",
     "output_type": "stream",
     "text": [
      "Enter number: 1\n",
      "Hello\n"
     ]
    }
   ],
   "source": [
    "spam = int(input(\"Enter number: \"))\n",
    "if spam == 1:\n",
    "    print(\"Hello\")\n",
    "elif spam == 2:\n",
    "    print(\"Howdy\")\n",
    "else:\n",
    "    print(\"Greetings\")"
   ]
  },
  {
   "cell_type": "markdown",
   "id": "70eb64f4",
   "metadata": {},
   "source": [
    "9. If your programme is stuck in an endless loop, what keys you’ll press?"
   ]
  },
  {
   "cell_type": "code",
   "execution_count": 3,
   "id": "c1c7bec2",
   "metadata": {},
   "outputs": [],
   "source": [
    "# if program is stuck in endless loop we will press ctrl+c"
   ]
  },
  {
   "cell_type": "markdown",
   "id": "a8309896",
   "metadata": {},
   "source": [
    "10. How can you tell the difference between break and continue?"
   ]
  },
  {
   "cell_type": "code",
   "execution_count": 27,
   "id": "f6687440",
   "metadata": {
    "scrolled": true
   },
   "outputs": [
    {
     "name": "stdout",
     "output_type": "stream",
     "text": [
      "use of break \n",
      "0\n",
      "1\n",
      "2\n",
      "3\n",
      "4\n",
      "5\n",
      "\n",
      "\n",
      "use of continue \n",
      "0\n",
      "1\n",
      "2\n",
      "3\n",
      "4\n",
      "5\n",
      "7\n",
      "8\n",
      "9\n"
     ]
    }
   ],
   "source": [
    "# In a loop when we use break it breaks the loop at that given condition and does not allow the loop to iterate further.\n",
    "# But in case of continue it does not execute that particular condition and starts to iterate after that condition.\n",
    "\n",
    "print(\"use of break \")\n",
    "for i in range(10):\n",
    "    if i == 6:\n",
    "        break\n",
    "    print(i)\n",
    "print(\"\\n\")\n",
    "print(\"use of continue \")    \n",
    "for i in range(10):\n",
    "    if i == 6:\n",
    "        continue\n",
    "    print(i)"
   ]
  },
  {
   "cell_type": "markdown",
   "id": "f9d20871",
   "metadata": {},
   "source": [
    "11. In a for loop, what is the difference between range(10), range(0, 10), and range(0, 10, 1)?"
   ]
  },
  {
   "cell_type": "code",
   "execution_count": 1,
   "id": "3bb13ca0",
   "metadata": {},
   "outputs": [],
   "source": [
    "# There is no difference between range(10), range(0,10) and range(0,10,1) because if we do not specify the starting number,\n",
    "# it takes 0 as its default and if we do not specify the steps it takes 1 as its default."
   ]
  },
  {
   "cell_type": "markdown",
   "id": "c55cc1db",
   "metadata": {},
   "source": [
    "12. Write a short program that prints the numbers 1 to 10 using a for loop. Then write an equivalent program that prints the numbers 1 to 10 using a while loop."
   ]
  },
  {
   "cell_type": "code",
   "execution_count": 28,
   "id": "3c8e954d",
   "metadata": {},
   "outputs": [
    {
     "name": "stdout",
     "output_type": "stream",
     "text": [
      "for loop\n",
      "1\n",
      "2\n",
      "3\n",
      "4\n",
      "5\n",
      "6\n",
      "7\n",
      "8\n",
      "9\n",
      "10\n",
      "\n",
      "While loop\n",
      "1\n",
      "2\n",
      "3\n",
      "4\n",
      "5\n",
      "6\n",
      "7\n",
      "8\n",
      "9\n",
      "10\n"
     ]
    }
   ],
   "source": [
    "# for loop \n",
    "print(\"for loop\")\n",
    "for i in range(10):\n",
    "    print(i+1)\n",
    "\n",
    "print(\"\")\n",
    "\n",
    "# while loop\n",
    "print(\"While loop\")\n",
    "a = 0\n",
    "while a < 10:\n",
    "    print(a+1)\n",
    "    a = a+1"
   ]
  },
  {
   "cell_type": "markdown",
   "id": "9d84e1cb",
   "metadata": {},
   "source": [
    "13. If you had a function named bacon() inside a module named spam, how would you call it after importing spam?"
   ]
  },
  {
   "cell_type": "code",
   "execution_count": 15,
   "id": "0e25ddc3",
   "metadata": {},
   "outputs": [],
   "source": [
    "# This function is called by spam.bacon()"
   ]
  }
 ],
 "metadata": {
  "kernelspec": {
   "display_name": "Python 3 (ipykernel)",
   "language": "python",
   "name": "python3"
  },
  "language_info": {
   "codemirror_mode": {
    "name": "ipython",
    "version": 3
   },
   "file_extension": ".py",
   "mimetype": "text/x-python",
   "name": "python",
   "nbconvert_exporter": "python",
   "pygments_lexer": "ipython3",
   "version": "3.11.3"
  }
 },
 "nbformat": 4,
 "nbformat_minor": 5
}
