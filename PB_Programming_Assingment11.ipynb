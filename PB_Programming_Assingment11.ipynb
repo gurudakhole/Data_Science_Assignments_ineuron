{
 "cells": [
  {
   "cell_type": "markdown",
   "id": "7e69a3ae",
   "metadata": {},
   "source": [
    "1.\tWrite a Python program to find words which are greater than given length k?"
   ]
  },
  {
   "cell_type": "code",
   "execution_count": 2,
   "id": "eecb917f",
   "metadata": {},
   "outputs": [
    {
     "name": "stdout",
     "output_type": "stream",
     "text": [
      "Enter Word : Gurudatta\n",
      "length of 'Gurudatta' is greater than 7 \n"
     ]
    }
   ],
   "source": [
    "a = input(\"Enter Word : \")\n",
    "length = 7\n",
    "\n",
    "if len(a) > length :\n",
    "    print(f\"length of '{a}' is greater than {length} \")\n",
    "    \n",
    "else :\n",
    "    print(f\"length of '{a}' not greater than {length} \")"
   ]
  },
  {
   "cell_type": "markdown",
   "id": "b47b6baa",
   "metadata": {},
   "source": [
    "2.\tWrite a Python program for removing i-th character from a string?"
   ]
  },
  {
   "cell_type": "code",
   "execution_count": 10,
   "id": "1c0c35fd",
   "metadata": {},
   "outputs": [
    {
     "name": "stdout",
     "output_type": "stream",
     "text": [
      "Enter string : Gurucdatta\n",
      "Enter number to remove that character : 4\n",
      "\n",
      "Gurudatta\n"
     ]
    }
   ],
   "source": [
    "string = input(\"Enter string : \")\n",
    "i = int(input(\"Enter number to remove that character : \"))\n",
    "a1 = list(string)\n",
    "a2 = a1.pop(i)\n",
    "r = \"\".join(a1)\n",
    "print(\"\")\n",
    "print(r)"
   ]
  },
  {
   "cell_type": "markdown",
   "id": "100a194f",
   "metadata": {},
   "source": [
    "3.\tWrite a Python program to split and join a string?"
   ]
  },
  {
   "cell_type": "code",
   "execution_count": 6,
   "id": "0d670377",
   "metadata": {},
   "outputs": [
    {
     "name": "stdout",
     "output_type": "stream",
     "text": [
      "After spliting a string we get : ['Will', 'i', 'get', 'a', 'job']\n",
      "\n",
      "After joining strings we get : Will-i-get-a-job\n"
     ]
    }
   ],
   "source": [
    "split_string = \"Will i get a job\"\n",
    "\n",
    "a = split_string.split()\n",
    "print(f\"After spliting a string we get : {a}\\n\")\n",
    "\n",
    "join_string = \"-\".join(split_string.split())\n",
    "print(f\"After joining strings we get : {join_string}\")"
   ]
  },
  {
   "cell_type": "markdown",
   "id": "29164c88",
   "metadata": {},
   "source": [
    "4.\tWrite a Python to check if a given string is binary string or not?"
   ]
  },
  {
   "cell_type": "code",
   "execution_count": 21,
   "id": "fe8d07ce",
   "metadata": {},
   "outputs": [
    {
     "name": "stdout",
     "output_type": "stream",
     "text": [
      "Enter string : 110101\n",
      "Given string 110101 is a binary string\n"
     ]
    }
   ],
   "source": [
    "a = input(\"Enter string : \")\n",
    "\n",
    "if a.isnumeric():\n",
    "    for i in a:\n",
    "        if int(i) > 1 :\n",
    "            print(f\"Given string {a} is not a binary string\")\n",
    "            break\n",
    "    else :\n",
    "        print(f\"Given string {a} is a binary string\")\n",
    "            \n",
    "else:\n",
    "    print(f\"Given string {a} is not a binary string\")"
   ]
  },
  {
   "cell_type": "markdown",
   "id": "6bc29242",
   "metadata": {},
   "source": [
    "5.\tWrite a Python program to find uncommon words from two Strings?"
   ]
  },
  {
   "cell_type": "code",
   "execution_count": 23,
   "id": "aab7eaf8",
   "metadata": {},
   "outputs": [],
   "source": [
    "def find_word(list1,b):\n",
    "    l = []\n",
    "    for i in list1:\n",
    "        if i not in b:\n",
    "            l.append(i)\n",
    "            \n",
    "    return l"
   ]
  },
  {
   "cell_type": "code",
   "execution_count": 34,
   "id": "81c7897a",
   "metadata": {},
   "outputs": [
    {
     "name": "stdout",
     "output_type": "stream",
     "text": [
      "Enter first string : my name is guru is name\n",
      "Enter second string : name of my father is vijay is father\n",
      "['vijay', 'guru', 'of', 'father']\n"
     ]
    }
   ],
   "source": [
    "string_1 = input(\"Enter first string : \")\n",
    "string_2 = input(\"Enter second string : \")\n",
    "s1 = string_1.split(\" \")\n",
    "s2 = string_2.split(\" \")\n",
    "\n",
    "f1 = find_word(s1,string_2)\n",
    "f2 = find_word(s2,string_1)\n",
    "\n",
    "print(list(set(f1+f2)))"
   ]
  },
  {
   "cell_type": "markdown",
   "id": "908289b6",
   "metadata": {},
   "source": [
    "6.\tWrite a Python to find all duplicate characters in string?"
   ]
  },
  {
   "cell_type": "code",
   "execution_count": 47,
   "id": "0773f46e",
   "metadata": {},
   "outputs": [],
   "source": [
    "def find_dup_word(list1,b):\n",
    "    l = []\n",
    "    for i in list1:\n",
    "        if list1.count(i) > 1:\n",
    "            l.append(i)\n",
    "            \n",
    "    return l"
   ]
  },
  {
   "cell_type": "code",
   "execution_count": 48,
   "id": "867e1f17",
   "metadata": {},
   "outputs": [
    {
     "name": "stdout",
     "output_type": "stream",
     "text": [
      "Enter first string : name of my father is vijay is father\n",
      "['is', 'father']\n"
     ]
    }
   ],
   "source": [
    "string_1 = input(\"Enter first string : \")\n",
    "s1 = string_1.split(\" \")\n",
    "\n",
    "f1 = find_dup_word(s1,string_2)\n",
    "\n",
    "print(list(set(f1)))"
   ]
  },
  {
   "cell_type": "markdown",
   "id": "d2dd32ad",
   "metadata": {},
   "source": [
    "7.\tWrite a Python Program to check if a string contains any special character?"
   ]
  },
  {
   "cell_type": "code",
   "execution_count": 64,
   "id": "b7f2c375",
   "metadata": {},
   "outputs": [],
   "source": [
    "def special_char(a):\n",
    "    l = []\n",
    "    a1 = a.replace(\" \",\"\")\n",
    "    for i in a1:\n",
    "        if i.isalnum() == False:\n",
    "            l.append(i)\n",
    "            \n",
    "    if len(l) > 1:\n",
    "        return \"yes there is/are special character in the given string\", list(set(l))\n",
    "    else :\n",
    "        return \"No there is/are no special character in the given string\""
   ]
  },
  {
   "cell_type": "code",
   "execution_count": 65,
   "id": "ae28e511",
   "metadata": {},
   "outputs": [
    {
     "data": {
      "text/plain": [
       "('yes there is/are special character in the given string', ['@', '*', ','])"
      ]
     },
     "execution_count": 65,
     "metadata": {},
     "output_type": "execute_result"
    }
   ],
   "source": [
    "special_char(\"my name * is @ *,scl\")"
   ]
  }
 ],
 "metadata": {
  "kernelspec": {
   "display_name": "Python 3 (ipykernel)",
   "language": "python",
   "name": "python3"
  },
  "language_info": {
   "codemirror_mode": {
    "name": "ipython",
    "version": 3
   },
   "file_extension": ".py",
   "mimetype": "text/x-python",
   "name": "python",
   "nbconvert_exporter": "python",
   "pygments_lexer": "ipython3",
   "version": "3.11.3"
  }
 },
 "nbformat": 4,
 "nbformat_minor": 5
}
