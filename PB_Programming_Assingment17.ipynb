{
 "cells": [
  {
   "cell_type": "markdown",
   "id": "3ebcff43",
   "metadata": {},
   "source": [
    "Question1. \n",
    "\n",
    "Create a function that takes three arguments a, b, c and returns the sum of the numbers that are evenly divided by c from the range a, b inclusive.\n",
    "\n",
    "Examples\n",
    "\n",
    "evenly_divisible(1, 10, 20) ➞ 0\n",
    "\n",
    "--No number between 1 and 10 can be evenly divided by 20.\n",
    "\n",
    "evenly_divisible(1, 10, 2) ➞ 30\n",
    "\n",
    "--2 + 4 + 6 + 8 + 10 = 30\n",
    "\n",
    "evenly_divisible(1, 10, 3) ➞ 18\n",
    "\n",
    "--3 + 6 + 9 = 18\n"
   ]
  },
  {
   "cell_type": "code",
   "execution_count": 16,
   "id": "179f1ac6",
   "metadata": {},
   "outputs": [],
   "source": [
    "def evenly_divisible(a,b,c):\n",
    "    sum1 = 0\n",
    "    for i in range(a,b+1):\n",
    "        if i%c == 0:\n",
    "            sum1 += i\n",
    "    return sum1"
   ]
  },
  {
   "cell_type": "code",
   "execution_count": 17,
   "id": "2044109e",
   "metadata": {},
   "outputs": [
    {
     "data": {
      "text/plain": [
       "0"
      ]
     },
     "execution_count": 17,
     "metadata": {},
     "output_type": "execute_result"
    }
   ],
   "source": [
    "evenly_divisible(1, 10, 20)"
   ]
  },
  {
   "cell_type": "code",
   "execution_count": 18,
   "id": "d7c6e933",
   "metadata": {},
   "outputs": [
    {
     "data": {
      "text/plain": [
       "30"
      ]
     },
     "execution_count": 18,
     "metadata": {},
     "output_type": "execute_result"
    }
   ],
   "source": [
    "evenly_divisible(1, 10, 2)"
   ]
  },
  {
   "cell_type": "code",
   "execution_count": 19,
   "id": "e2767faa",
   "metadata": {},
   "outputs": [
    {
     "data": {
      "text/plain": [
       "18"
      ]
     },
     "execution_count": 19,
     "metadata": {},
     "output_type": "execute_result"
    }
   ],
   "source": [
    "evenly_divisible(1, 10, 3)"
   ]
  },
  {
   "cell_type": "markdown",
   "id": "eec4225e",
   "metadata": {},
   "source": [
    "Question2. \n",
    "\n",
    "Create a function that returns True if a given inequality expression is correct and False otherwise.\n",
    "Examples\n",
    "\n",
    "correct_signs(\"3 < 7 < 11\") ➞ True\n",
    "\n",
    "correct_signs(\"13 > 44 > 33 > 1\") ➞ False\n",
    "\n",
    "correct_signs(\"1 < 2 < 6 < 9 > 3\") ➞ True\n"
   ]
  },
  {
   "cell_type": "code",
   "execution_count": 21,
   "id": "321e5976",
   "metadata": {},
   "outputs": [],
   "source": [
    "def correct_signs(a):\n",
    "    return eval(a)"
   ]
  },
  {
   "cell_type": "code",
   "execution_count": 24,
   "id": "6910d23b",
   "metadata": {},
   "outputs": [
    {
     "data": {
      "text/plain": [
       "True"
      ]
     },
     "execution_count": 24,
     "metadata": {},
     "output_type": "execute_result"
    }
   ],
   "source": [
    "correct_signs(\"3 < 7 < 11\")"
   ]
  },
  {
   "cell_type": "code",
   "execution_count": 23,
   "id": "512f600f",
   "metadata": {},
   "outputs": [
    {
     "data": {
      "text/plain": [
       "False"
      ]
     },
     "execution_count": 23,
     "metadata": {},
     "output_type": "execute_result"
    }
   ],
   "source": [
    "correct_signs(\"13 > 44 > 33 > 1\")"
   ]
  },
  {
   "cell_type": "code",
   "execution_count": 22,
   "id": "18f7eb74",
   "metadata": {},
   "outputs": [
    {
     "data": {
      "text/plain": [
       "True"
      ]
     },
     "execution_count": 22,
     "metadata": {},
     "output_type": "execute_result"
    }
   ],
   "source": [
    "correct_signs(\"1 < 2 < 6 < 9 > 3\")"
   ]
  },
  {
   "cell_type": "markdown",
   "id": "fe620661",
   "metadata": {},
   "source": [
    "Question3. \n",
    "\n",
    "Create a function that replaces all the vowels in a string with a specified character.\n",
    "\n",
    "Examples\n",
    "replace_vowels(\"the aardvark\", \"#\") ➞ \"th# ##rdv#rk\"\n",
    "\n",
    "replace_vowels(\"minnie mouse\", \"?\") ➞ \"m?nn?? m??s?\"\n",
    "\n",
    "replace_vowels(\"shakespeare\", \"*\") ➞ \"sh*k*sp**r*\"\n"
   ]
  },
  {
   "cell_type": "code",
   "execution_count": 29,
   "id": "2b68fa36",
   "metadata": {},
   "outputs": [],
   "source": [
    "def replace_vowels(a,b):\n",
    "    a1 = \"aeiouAEIOU\"\n",
    "    for i in a1:\n",
    "        a = a.replace(i,b)\n",
    "            \n",
    "    return a"
   ]
  },
  {
   "cell_type": "code",
   "execution_count": 30,
   "id": "5744ec21",
   "metadata": {},
   "outputs": [
    {
     "data": {
      "text/plain": [
       "'th# ##rdv#rk'"
      ]
     },
     "execution_count": 30,
     "metadata": {},
     "output_type": "execute_result"
    }
   ],
   "source": [
    "replace_vowels(\"the aardvark\", \"#\")"
   ]
  },
  {
   "cell_type": "code",
   "execution_count": 31,
   "id": "47aa685d",
   "metadata": {},
   "outputs": [
    {
     "data": {
      "text/plain": [
       "'m?nn?? m??s?'"
      ]
     },
     "execution_count": 31,
     "metadata": {},
     "output_type": "execute_result"
    }
   ],
   "source": [
    "replace_vowels(\"minnie mouse\", \"?\")"
   ]
  },
  {
   "cell_type": "code",
   "execution_count": 35,
   "id": "9208420d",
   "metadata": {},
   "outputs": [
    {
     "data": {
      "text/plain": [
       "'sh*k*sp**r*'"
      ]
     },
     "execution_count": 35,
     "metadata": {},
     "output_type": "execute_result"
    }
   ],
   "source": [
    "replace_vowels(\"shakespeare\", \"*\")"
   ]
  },
  {
   "cell_type": "markdown",
   "id": "aa22fb7e",
   "metadata": {},
   "source": [
    "Question4. \n",
    "\n",
    "Write a function that calculates the factorial of a number recursively.\n",
    "\n",
    "Examples\n",
    "\n",
    "factorial(5) ➞ 120\n",
    "\n",
    "factorial(3) ➞ 6\n",
    "\n",
    "factorial(1) ➞ 1\n",
    "\n",
    "factorial(0) ➞ 1\n"
   ]
  },
  {
   "cell_type": "code",
   "execution_count": 52,
   "id": "c54f46f3",
   "metadata": {},
   "outputs": [],
   "source": [
    "def factorial(a):\n",
    "    if a == 0:\n",
    "        return 1\n",
    "    return a*factorial(a-1)"
   ]
  },
  {
   "cell_type": "code",
   "execution_count": 56,
   "id": "4c870bbd",
   "metadata": {},
   "outputs": [
    {
     "data": {
      "text/plain": [
       "120"
      ]
     },
     "execution_count": 56,
     "metadata": {},
     "output_type": "execute_result"
    }
   ],
   "source": [
    "factorial(5)"
   ]
  },
  {
   "cell_type": "code",
   "execution_count": 53,
   "id": "2da39cba",
   "metadata": {},
   "outputs": [
    {
     "data": {
      "text/plain": [
       "6"
      ]
     },
     "execution_count": 53,
     "metadata": {},
     "output_type": "execute_result"
    }
   ],
   "source": [
    "factorial(3)"
   ]
  },
  {
   "cell_type": "code",
   "execution_count": 55,
   "id": "7a83402a",
   "metadata": {},
   "outputs": [
    {
     "data": {
      "text/plain": [
       "1"
      ]
     },
     "execution_count": 55,
     "metadata": {},
     "output_type": "execute_result"
    }
   ],
   "source": [
    "factorial(1)"
   ]
  },
  {
   "cell_type": "code",
   "execution_count": 54,
   "id": "63089b02",
   "metadata": {},
   "outputs": [
    {
     "data": {
      "text/plain": [
       "1"
      ]
     },
     "execution_count": 54,
     "metadata": {},
     "output_type": "execute_result"
    }
   ],
   "source": [
    "factorial(0)"
   ]
  },
  {
   "cell_type": "markdown",
   "id": "c32d39d1",
   "metadata": {},
   "source": [
    "Question 5\n",
    "\n",
    "Hamming distance is the number of characters that differ between two strings.\n",
    "\n",
    "To illustrate:\n",
    "\n",
    "String1: \"abcbba\"\n",
    "\n",
    "String2: \"abcbda\"\n",
    "\n",
    "Hamming Distance: 1 - \"b\" vs. \"d\" is the only difference.\n",
    "\n",
    "Create a function that computes the hamming distance between two strings.\n",
    "\n",
    "Examples\n",
    "\n",
    "hamming_distance(\"abcde\", \"bcdef\") ➞ 5\n",
    "\n",
    "hamming_distance(\"abcde\", \"abcde\") ➞ 0\n",
    "\n",
    "hamming_distance(\"strong\", \"strung\") ➞ 1\n"
   ]
  },
  {
   "cell_type": "code",
   "execution_count": 59,
   "id": "f26759ce",
   "metadata": {},
   "outputs": [],
   "source": [
    "def hamming_distance(a,b):\n",
    "    count = 0\n",
    "    for i in range(len(a)):\n",
    "        if a[i] != b[i]:\n",
    "            count += 1\n",
    "            \n",
    "    return count"
   ]
  },
  {
   "cell_type": "code",
   "execution_count": 60,
   "id": "08959ca5",
   "metadata": {},
   "outputs": [
    {
     "data": {
      "text/plain": [
       "5"
      ]
     },
     "execution_count": 60,
     "metadata": {},
     "output_type": "execute_result"
    }
   ],
   "source": [
    "hamming_distance(\"abcde\", \"bcdef\")"
   ]
  },
  {
   "cell_type": "code",
   "execution_count": 62,
   "id": "9f97ca06",
   "metadata": {},
   "outputs": [
    {
     "data": {
      "text/plain": [
       "0"
      ]
     },
     "execution_count": 62,
     "metadata": {},
     "output_type": "execute_result"
    }
   ],
   "source": [
    "hamming_distance(\"abcde\", \"abcde\")"
   ]
  },
  {
   "cell_type": "code",
   "execution_count": 61,
   "id": "d1f31d3d",
   "metadata": {},
   "outputs": [
    {
     "data": {
      "text/plain": [
       "1"
      ]
     },
     "execution_count": 61,
     "metadata": {},
     "output_type": "execute_result"
    }
   ],
   "source": [
    "hamming_distance(\"strong\", \"strung\")"
   ]
  }
 ],
 "metadata": {
  "kernelspec": {
   "display_name": "Python 3 (ipykernel)",
   "language": "python",
   "name": "python3"
  },
  "language_info": {
   "codemirror_mode": {
    "name": "ipython",
    "version": 3
   },
   "file_extension": ".py",
   "mimetype": "text/x-python",
   "name": "python",
   "nbconvert_exporter": "python",
   "pygments_lexer": "ipython3",
   "version": "3.11.3"
  }
 },
 "nbformat": 4,
 "nbformat_minor": 5
}
