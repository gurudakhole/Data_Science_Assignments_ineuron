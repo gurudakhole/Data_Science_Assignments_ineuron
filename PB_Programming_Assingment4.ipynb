{
 "cells": [
  {
   "cell_type": "markdown",
   "id": "0c4212f5",
   "metadata": {},
   "source": [
    "1.\tWrite a Python Program to Find the Factorial of a Number?"
   ]
  },
  {
   "cell_type": "code",
   "execution_count": 19,
   "id": "17f8f1b2",
   "metadata": {},
   "outputs": [
    {
     "name": "stdout",
     "output_type": "stream",
     "text": [
      "Enter number : 8\n",
      "Factorial of number 8 is 40320\n"
     ]
    }
   ],
   "source": [
    "a = int(input(\"Enter number : \"))\n",
    "\n",
    "if a < 0:\n",
    "    print(\"Factorial of negative number does not exist\")\n",
    "else :\n",
    "    i = 1\n",
    "    n = 1\n",
    "    while n < a+1:\n",
    "        i = i*n\n",
    "        n = n+1\n",
    "    print(f\"Factorial of number {a} is {i}\")"
   ]
  },
  {
   "cell_type": "markdown",
   "id": "43b73636",
   "metadata": {},
   "source": [
    "2.\tWrite a Python Program to Display the multiplication Table?"
   ]
  },
  {
   "cell_type": "code",
   "execution_count": 29,
   "id": "43f899d1",
   "metadata": {},
   "outputs": [
    {
     "name": "stdout",
     "output_type": "stream",
     "text": [
      "Enter Table Number : 9\n",
      "\n",
      "Multiplication Table of 9 is :\n",
      "\n",
      "9 x 1 = 9\n",
      "9 x 2 = 18\n",
      "9 x 3 = 27\n",
      "9 x 4 = 36\n",
      "9 x 5 = 45\n",
      "9 x 6 = 54\n",
      "9 x 7 = 63\n",
      "9 x 8 = 72\n",
      "9 x 9 = 81\n",
      "9 x 10 = 90\n"
     ]
    }
   ],
   "source": [
    "a = int(input(\"Enter Table Number : \"))\n",
    "\n",
    "print(f\"\\nMultiplication Table of {a} is :\\n\")\n",
    "\n",
    "for i in range(10):\n",
    "    print(f\"{a} x {i+1} = {a*(i+1)}\")\n",
    "    \n"
   ]
  },
  {
   "cell_type": "markdown",
   "id": "6be71f96",
   "metadata": {},
   "source": [
    "3.\tWrite a Python Program to Print the Fibonacci sequence?"
   ]
  },
  {
   "cell_type": "code",
   "execution_count": 27,
   "id": "f0b99f41",
   "metadata": {},
   "outputs": [
    {
     "name": "stdout",
     "output_type": "stream",
     "text": [
      "How many terms you want : 25\n",
      "0 1 1 2 3 5 8 13 21 34 55 89 144 233 377 610 987 1597 2584 4181 6765 10946 17711 28657 "
     ]
    }
   ],
   "source": [
    "a = int(input(\"How many terms you want : \"))\n",
    "\n",
    "i = 0\n",
    "n = 1\n",
    "c = 1\n",
    "while c<a:\n",
    "    print(i,end=\" \")\n",
    "    i,n = i+n, i\n",
    "    c = c+1"
   ]
  },
  {
   "cell_type": "markdown",
   "id": "e16a3fd2",
   "metadata": {},
   "source": [
    "4.\tWrite a Python Program to Check Armstrong Number?"
   ]
  },
  {
   "cell_type": "code",
   "execution_count": 63,
   "id": "011d70ba",
   "metadata": {},
   "outputs": [
    {
     "name": "stdout",
     "output_type": "stream",
     "text": [
      "Enter Number : 215423\n",
      "Number 215423 is not an Armstrong Number \n"
     ]
    }
   ],
   "source": [
    "try:\n",
    "    a = input(\"Enter Number : \")\n",
    "\n",
    "    sum1 = 0\n",
    "\n",
    "    for i in a:\n",
    "        sum1 = sum1 + (int(i)**len(a))\n",
    "    \n",
    "    if sum1 == int(a):\n",
    "        print(f\"Number {a} is an Armstrong Number \")\n",
    "    \n",
    "    else :\n",
    "        print(f\"Number {a} is not an Armstrong Number \")\n",
    "        \n",
    "except:\n",
    "    print(\"Input must be a number \")"
   ]
  },
  {
   "cell_type": "code",
   "execution_count": 64,
   "id": "74630e35",
   "metadata": {},
   "outputs": [
    {
     "name": "stdout",
     "output_type": "stream",
     "text": [
      "Enter Number : 472335975\n",
      "Number 472335975 is an Armstrong Number \n"
     ]
    }
   ],
   "source": [
    "try:\n",
    "    a = input(\"Enter Number : \")\n",
    "\n",
    "    sum1 = 0\n",
    "\n",
    "    for i in a:\n",
    "        sum1 = sum1 + (int(i)**len(a))\n",
    "    \n",
    "    if sum1 == int(a):\n",
    "        print(f\"Number {a} is an Armstrong Number \")\n",
    "    \n",
    "    else :\n",
    "        print(f\"Number {a} is not an Armstrong Number \")\n",
    "\n",
    "except:\n",
    "    print(\"Input must be a number \")"
   ]
  },
  {
   "cell_type": "markdown",
   "id": "ce2b77f8",
   "metadata": {},
   "source": [
    "5.\tWrite a Python Program to Find Armstrong Number in an Interval?"
   ]
  },
  {
   "cell_type": "code",
   "execution_count": 65,
   "id": "62c04876",
   "metadata": {},
   "outputs": [
    {
     "name": "stdout",
     "output_type": "stream",
     "text": [
      "Enter Interval : 1,3624566\n",
      "Armstrong Number between interval ['1', '3624566'] is [1, 2, 3, 4, 5, 6, 7, 8, 9, 153, 370, 371, 407, 1634, 8208, 9474, 54748, 92727, 93084, 548834, 1741725]\n"
     ]
    }
   ],
   "source": [
    "interval_1 = input(\"Enter Interval : \")\n",
    "interval_1 = interval_1.split(\",\")\n",
    "l = []\n",
    "\n",
    "for j in range(int(interval_1[0]),int(interval_1[1])): \n",
    "    \n",
    "    a = str(j)\n",
    "    sum1 = 0\n",
    "    \n",
    "    for i in a:\n",
    "        sum1 = sum1 + (int(i)**len(a))\n",
    "    \n",
    "    if sum1 == int(a):\n",
    "        l.append(j)\n",
    "        \n",
    "print(f\"Armstrong Number between interval {interval_1} is {l}\")"
   ]
  },
  {
   "cell_type": "markdown",
   "id": "e06f10d9",
   "metadata": {},
   "source": [
    "6.\tWrite a Python Program to Find the Sum of Natural Numbers?"
   ]
  },
  {
   "cell_type": "code",
   "execution_count": 84,
   "id": "0d1865ce",
   "metadata": {},
   "outputs": [
    {
     "name": "stdout",
     "output_type": "stream",
     "text": [
      "Enter Number : 12\n",
      "sum of first 12 natural number is 78\n"
     ]
    }
   ],
   "source": [
    "a = int(input(\"Enter Number : \"))\n",
    "\n",
    "l = []\n",
    "for i in range(1,a+1):\n",
    "    l.append(int(i))\n",
    "\n",
    "print(f\"sum of first {a} natural number is {sum(l)}\")"
   ]
  }
 ],
 "metadata": {
  "kernelspec": {
   "display_name": "Python 3 (ipykernel)",
   "language": "python",
   "name": "python3"
  },
  "language_info": {
   "codemirror_mode": {
    "name": "ipython",
    "version": 3
   },
   "file_extension": ".py",
   "mimetype": "text/x-python",
   "name": "python",
   "nbconvert_exporter": "python",
   "pygments_lexer": "ipython3",
   "version": "3.11.3"
  }
 },
 "nbformat": 4,
 "nbformat_minor": 5
}
