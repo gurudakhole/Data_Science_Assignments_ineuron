{
 "cells": [
  {
   "cell_type": "markdown",
   "id": "6b6d9e21",
   "metadata": {},
   "source": [
    "1.\tWrite a Python program to find sum of elements in list?"
   ]
  },
  {
   "cell_type": "code",
   "execution_count": 17,
   "id": "54c47bf9",
   "metadata": {},
   "outputs": [
    {
     "name": "stdout",
     "output_type": "stream",
     "text": [
      "[1, 56, 21, 65, 78, 63, 94, 51, 36, 21, 485, 695, 215]\n",
      "sum of elements in list 'l' is 1881\n"
     ]
    }
   ],
   "source": [
    "l = [1,56,21,65,78,63,94,51,36,21,485,695,215]\n",
    "print(l)\n",
    "print(f\"sum of elements in list 'l' is {sum(l)}\")"
   ]
  },
  {
   "cell_type": "markdown",
   "id": "a8d34f78",
   "metadata": {},
   "source": [
    "2.\tWrite a Python program to  Multiply all numbers in the list?"
   ]
  },
  {
   "cell_type": "code",
   "execution_count": 16,
   "id": "02172a31",
   "metadata": {},
   "outputs": [
    {
     "name": "stdout",
     "output_type": "stream",
     "text": [
      "[3, 56, 21, 6, 7, 6, 4, 5, 3]\n",
      "multiplication of all numbers in the list is 53343360\n"
     ]
    }
   ],
   "source": [
    "l = [3,56,21,6,7,6,4,5,3]\n",
    "\n",
    "import functools\n",
    "\n",
    "print(l)\n",
    "print(f\"multiplication of all numbers in the list is {functools.reduce(lambda a,b: a*b,l)}\")"
   ]
  },
  {
   "cell_type": "markdown",
   "id": "13af29da",
   "metadata": {},
   "source": [
    "3.\tWrite a Python program to find smallest number in a list?"
   ]
  },
  {
   "cell_type": "code",
   "execution_count": 18,
   "id": "ba8cdb10",
   "metadata": {},
   "outputs": [
    {
     "name": "stdout",
     "output_type": "stream",
     "text": [
      "[136, 56, 21, 65, 78, 63, 94, 51, 36, 21, 485, 695, 215]\n",
      "smallest number in list 'l' is 21\n"
     ]
    }
   ],
   "source": [
    "l = [136,56,21,65,78,63,94,51,36,21,485,695,215]\n",
    "print(l)\n",
    "print(f\"smallest number in list 'l' is {min(l)}\") "
   ]
  },
  {
   "cell_type": "markdown",
   "id": "de627a51",
   "metadata": {},
   "source": [
    "4.\tWrite a Python program to find largest number in a list?"
   ]
  },
  {
   "cell_type": "code",
   "execution_count": 20,
   "id": "dbc7b133",
   "metadata": {},
   "outputs": [
    {
     "name": "stdout",
     "output_type": "stream",
     "text": [
      "[136, 56, 21, 65, 78, 63, 94, 51, 36, 21, 485, 695, 215]\n",
      "largest number in list 'l' is 695\n"
     ]
    }
   ],
   "source": [
    "l = [136,56,21,65,78,63,94,51,36,21,485,695,215]\n",
    "print(l)\n",
    "print(f\"largest number in list 'l' is {max(l)}\") "
   ]
  },
  {
   "cell_type": "markdown",
   "id": "ecc8cbb4",
   "metadata": {},
   "source": [
    "5.\tWrite a Python program to find second largest number in a list?"
   ]
  },
  {
   "cell_type": "code",
   "execution_count": 24,
   "id": "a14871da",
   "metadata": {},
   "outputs": [
    {
     "name": "stdout",
     "output_type": "stream",
     "text": [
      "Second largest number in the list 'l' is 485\n"
     ]
    }
   ],
   "source": [
    "l = [136,56,21,65,78,63,94,51,36,21,485,695,215]\n",
    "\n",
    "l.sort()\n",
    "\n",
    "print(f\"Second largest number in the list 'l' is {l[-2]}\")"
   ]
  },
  {
   "cell_type": "markdown",
   "id": "dfc509c5",
   "metadata": {},
   "source": [
    "6.\tWrite a Python program to find N largest elements from a list?"
   ]
  },
  {
   "cell_type": "code",
   "execution_count": 27,
   "id": "321db5b4",
   "metadata": {},
   "outputs": [
    {
     "name": "stdout",
     "output_type": "stream",
     "text": [
      "Enter number of element you want : 6\n",
      "6 largest element from the list 'l' are [568, 695, 1254, 1452, 2451, 6995]\n"
     ]
    }
   ],
   "source": [
    "l = [136,56,21,65,78,63,94,51,36,21,485,695,215,32,568,6995,1254,326,2451,362,1452,475]\n",
    "\n",
    "a = int(input(\"Enter number of element you want : \"))\n",
    "\n",
    "l.sort()\n",
    "\n",
    "print(f\"{a} largest element from the list 'l' are {l[-a:]}\")"
   ]
  },
  {
   "cell_type": "markdown",
   "id": "837a3bce",
   "metadata": {},
   "source": [
    "7.\tWrite a Python program to print even numbers in a list?"
   ]
  },
  {
   "cell_type": "code",
   "execution_count": 40,
   "id": "9e2f197b",
   "metadata": {},
   "outputs": [
    {
     "name": "stdout",
     "output_type": "stream",
     "text": [
      "[136, 56, 21, 65, 78, 63, 94, 51, 36, 21, 485, 695, 215, 32, 568, 6995, 1254, 326, 2451, 362, 1452, 475]\n",
      "even numbers in the given list are \n",
      "[136, 56, 78, 94, 36, 32, 568, 1254, 326, 362, 1452]\n"
     ]
    }
   ],
   "source": [
    "l = [136,56,21,65,78,63,94,51,36,21,485,695,215,32,568,6995,1254,326,2451,362,1452,475]\n",
    "\n",
    "l1 = list(filter(lambda a: a%2 == 0,l))\n",
    "print(l)\n",
    "print(\"even numbers in the given list are \")\n",
    "print(l1)"
   ]
  },
  {
   "cell_type": "markdown",
   "id": "b86417b5",
   "metadata": {},
   "source": [
    "8.\tWrite a Python program to print odd numbers in a List?"
   ]
  },
  {
   "cell_type": "code",
   "execution_count": 39,
   "id": "eae7fcbd",
   "metadata": {},
   "outputs": [
    {
     "name": "stdout",
     "output_type": "stream",
     "text": [
      "[136, 56, 21, 65, 78, 63, 94, 51, 36, 21, 485, 695, 215, 32, 568, 6995, 1254, 326, 2451, 362, 1452, 475]\n",
      "odd numbers in the given list are \n",
      "[21, 65, 63, 51, 21, 485, 695, 215, 6995, 2451, 475]\n"
     ]
    }
   ],
   "source": [
    "l = [136,56,21,65,78,63,94,51,36,21,485,695,215,32,568,6995,1254,326,2451,362,1452,475]\n",
    "\n",
    "l1 = list(filter(lambda a: a%2 == 1, l))\n",
    "print(l)\n",
    "print(\"odd numbers in the given list are \")\n",
    "print(l1)"
   ]
  },
  {
   "cell_type": "markdown",
   "id": "4757975b",
   "metadata": {},
   "source": [
    "9.\tWrite a Python program to Remove empty List from List?"
   ]
  },
  {
   "cell_type": "code",
   "execution_count": 47,
   "id": "4e904e67",
   "metadata": {},
   "outputs": [
    {
     "name": "stdout",
     "output_type": "stream",
     "text": [
      "Given List is:\n",
      "[5, 6, [], 3, [], [], 9, [2, 9]]\n",
      "\n",
      "\n",
      "list after removing empty list is:\n",
      "[5, 6, 3, 9, [2, 9]]\n"
     ]
    }
   ],
   "source": [
    "l = [5, 6, [], 3, [], [], 9, [2, 9]]\n",
    "\n",
    "def empty_list(a):\n",
    "    if type(a) == list:\n",
    "        if len(a) == 0:\n",
    "            False\n",
    "        else:\n",
    "            True \n",
    "    else:\n",
    "        True\n",
    "        \n",
    "l1 = list(filter(empty_list(a),l))\n",
    "print(f\"Given List is:\\n{l}\\n\\n\")\n",
    "print(f\"list after removing empty list is:\\n{l1}\")"
   ]
  },
  {
   "cell_type": "markdown",
   "id": "9228f938",
   "metadata": {},
   "source": [
    "10.\tWrite a Python program to Cloning or Copying a list?"
   ]
  },
  {
   "cell_type": "code",
   "execution_count": 48,
   "id": "8421841f",
   "metadata": {},
   "outputs": [
    {
     "name": "stdout",
     "output_type": "stream",
     "text": [
      "original list l = ['Guru', 'Dakhole', 'ineuron', 2023, 18, 'Coaching']\n",
      "list after coping l1 = ['Guru', 'Dakhole', 'ineuron', 2023, 18, 'Coaching']\n"
     ]
    }
   ],
   "source": [
    "l = [\"Guru\",\"Dakhole\",\"ineuron\",2023,18,\"Coaching\"]\n",
    "\n",
    "l1 = l\n",
    "\n",
    "print(f\"original list l = {l}\")\n",
    "print(f\"list after coping l1 = {l1}\")"
   ]
  },
  {
   "cell_type": "markdown",
   "id": "2df4a4c6",
   "metadata": {},
   "source": [
    "11.\tWrite a Python program to Count occurrences of an element in a list?"
   ]
  },
  {
   "cell_type": "code",
   "execution_count": 49,
   "id": "62971ab8",
   "metadata": {},
   "outputs": [
    {
     "name": "stdout",
     "output_type": "stream",
     "text": [
      "list = [2, 5, 6, 4, 8, 8, 9, 1, 2, 3, 5, 8, 4, 6, 5, 8, 2, 1, 3, 8, 36, 14, 8, 2, 6, 8, 1]\n",
      "which element you want to count : 8\n",
      "number of 8 in list is 7\n"
     ]
    }
   ],
   "source": [
    "l = [2,5,6,4,8,8,9,1,2,3,5,8,4,6,5,8,2,1,3,8,36,14,8,2,6,8,1]\n",
    "\n",
    "print(f\"list = {l}\")\n",
    "a = int(input(\"which element you want to count : \"))\n",
    "\n",
    "print(f\"number of {a} in list is {l.count(a)}\")"
   ]
  }
 ],
 "metadata": {
  "kernelspec": {
   "display_name": "Python 3 (ipykernel)",
   "language": "python",
   "name": "python3"
  },
  "language_info": {
   "codemirror_mode": {
    "name": "ipython",
    "version": 3
   },
   "file_extension": ".py",
   "mimetype": "text/x-python",
   "name": "python",
   "nbconvert_exporter": "python",
   "pygments_lexer": "ipython3",
   "version": "3.11.3"
  }
 },
 "nbformat": 4,
 "nbformat_minor": 5
}
