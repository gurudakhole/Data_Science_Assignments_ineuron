{
 "cells": [
  {
   "cell_type": "markdown",
   "id": "370d51d1",
   "metadata": {},
   "source": [
    "1.\tWrite a Python Program to Display Fibonacci Sequence Using Recursion?"
   ]
  },
  {
   "cell_type": "code",
   "execution_count": 27,
   "id": "90c3f775",
   "metadata": {},
   "outputs": [
    {
     "name": "stdout",
     "output_type": "stream",
     "text": [
      "How many number you want in fibonacci sequence : 12\n",
      "0 1 1 2 3 5 8 13 21 34 55 89 "
     ]
    }
   ],
   "source": [
    "def fibo(n):\n",
    "    if n <= 1:\n",
    "        return n\n",
    "    else :\n",
    "        return fibo(n-1)+fibo(n-2)\n",
    "    \n",
    "a = int(input(\"How many number you want in fibonacci sequence : \"))\n",
    "\n",
    "for i in range(a):\n",
    "    print(fibo(i), end = \" \")"
   ]
  },
  {
   "cell_type": "markdown",
   "id": "0cae9242",
   "metadata": {},
   "source": [
    "2.\tWrite a Python Program to Find Factorial of Number Using Recursion?"
   ]
  },
  {
   "cell_type": "code",
   "execution_count": 28,
   "id": "85b263ec",
   "metadata": {},
   "outputs": [
    {
     "name": "stdout",
     "output_type": "stream",
     "text": [
      "Enter Number : 7\n",
      "Factorial of number 7 is 5040\n"
     ]
    }
   ],
   "source": [
    "def factorial(n):\n",
    "    if n == 1:\n",
    "        return n\n",
    "    else :\n",
    "        return n*factorial(n-1)\n",
    "\n",
    "a = int(input(\"Enter Number : \"))\n",
    "\n",
    "print(f\"Factorial of number {a} is {factorial(a)}\")"
   ]
  },
  {
   "cell_type": "markdown",
   "id": "fa322906",
   "metadata": {},
   "source": [
    "3.\tWrite a Python Program to calculate your Body Mass Index?"
   ]
  },
  {
   "cell_type": "code",
   "execution_count": 16,
   "id": "fc2e5656",
   "metadata": {},
   "outputs": [
    {
     "name": "stdout",
     "output_type": "stream",
     "text": [
      "Enter Height in cm : 175\n",
      "Enter weight in kg : 90\n",
      "your BMI is 29.387755102040813\n"
     ]
    }
   ],
   "source": [
    "height = int(input(\"Enter Height in cm : \"))\n",
    "weight = int(input(\"Enter weight in kg : \"))\n",
    "\n",
    "BMI = ((weight)/(height**2))*10000\n",
    "print(f\"your BMI is {BMI}\")"
   ]
  },
  {
   "cell_type": "markdown",
   "id": "4915f843",
   "metadata": {},
   "source": [
    "4.\tWrite a Python Program to calculate the natural logarithm of any number?"
   ]
  },
  {
   "cell_type": "code",
   "execution_count": 21,
   "id": "a5ddbebd",
   "metadata": {},
   "outputs": [
    {
     "name": "stdout",
     "output_type": "stream",
     "text": [
      "Enter number : 26\n",
      "Natural logarithm of 26 is 3.258096538021482\n"
     ]
    }
   ],
   "source": [
    "from math import log\n",
    "\n",
    "a = int(input(\"Enter number : \"))\n",
    "\n",
    "print(f\"Natural logarithm of {a} is {log(a)}\")"
   ]
  },
  {
   "cell_type": "markdown",
   "id": "c75c0a0b",
   "metadata": {},
   "source": [
    "5.\tWrite a Python Program for cube sum of first n natural numbers?"
   ]
  },
  {
   "cell_type": "code",
   "execution_count": 4,
   "id": "bab6fd31",
   "metadata": {},
   "outputs": [
    {
     "name": "stdout",
     "output_type": "stream",
     "text": [
      "Enter Number : 20\n",
      "[1, 8, 27, 64, 125, 216, 343, 512, 729, 1000, 1331, 1728, 2197, 2744, 3375, 4096, 4913, 5832, 6859, 8000]\n",
      "cube sum of first 20 natural number is 44100\n"
     ]
    }
   ],
   "source": [
    "a = int(input(\"Enter Number : \"))\n",
    "\n",
    "l = []\n",
    "for i in range(1,a+1):\n",
    "    l.append(i**3)\n",
    "    \n",
    "print(l)\n",
    "print(f\"cube sum of first {a} natural number is {sum(l)}\")"
   ]
  }
 ],
 "metadata": {
  "kernelspec": {
   "display_name": "Python 3 (ipykernel)",
   "language": "python",
   "name": "python3"
  },
  "language_info": {
   "codemirror_mode": {
    "name": "ipython",
    "version": 3
   },
   "file_extension": ".py",
   "mimetype": "text/x-python",
   "name": "python",
   "nbconvert_exporter": "python",
   "pygments_lexer": "ipython3",
   "version": "3.11.3"
  }
 },
 "nbformat": 4,
 "nbformat_minor": 5
}
