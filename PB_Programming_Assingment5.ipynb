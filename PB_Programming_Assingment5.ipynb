{
 "cells": [
  {
   "cell_type": "markdown",
   "id": "94a53a1a",
   "metadata": {},
   "source": [
    "1.\tWrite a Python Program to Find LCM?"
   ]
  },
  {
   "cell_type": "code",
   "execution_count": 9,
   "id": "921793b3",
   "metadata": {},
   "outputs": [
    {
     "name": "stdout",
     "output_type": "stream",
     "text": [
      "Enter First Number : 125\n",
      "Enter Second Number : 362\n",
      "LCM of 125 and 362 is 45250\n"
     ]
    }
   ],
   "source": [
    "a = int(input(\"Enter First Number : \"))\n",
    "b = int(input(\"Enter Second Number : \"))\n",
    "\n",
    "if a > b:\n",
    "    greater = a\n",
    "    \n",
    "else:\n",
    "    greater = b\n",
    "    \n",
    "while True:\n",
    "    if greater % a == 0 and greater % b == 0:\n",
    "        break\n",
    "    greater = greater + 1\n",
    "    \n",
    "print(f\"LCM of {a} and {b} is {greater}\")"
   ]
  },
  {
   "cell_type": "markdown",
   "id": "0640c2a0",
   "metadata": {},
   "source": [
    "2.\tWrite a Python Program to Find HCF?"
   ]
  },
  {
   "cell_type": "code",
   "execution_count": 11,
   "id": "32166fb7",
   "metadata": {},
   "outputs": [
    {
     "name": "stdout",
     "output_type": "stream",
     "text": [
      "Enter First Number : 83\n",
      "Enter Second Number : 79\n",
      "HCF of 83 and 79 is 1\n"
     ]
    }
   ],
   "source": [
    "a = int(input(\"Enter First Number : \"))\n",
    "b = int(input(\"Enter Second Number : \"))\n",
    "\n",
    "\n",
    "if a < b:\n",
    "    smaller = a\n",
    "else :\n",
    "    smaller = b\n",
    "    \n",
    "while True:\n",
    "    if a % smaller == 0 and b % smaller == 0:\n",
    "        break\n",
    "    smaller = smaller - 1\n",
    "    \n",
    "print(f\"HCF of {a} and {b} is {smaller}\")"
   ]
  },
  {
   "cell_type": "markdown",
   "id": "26ab8f16",
   "metadata": {},
   "source": [
    "3.\tWrite a Python Program to Convert Decimal to Binary, Octal and Hexadecimal?"
   ]
  },
  {
   "cell_type": "code",
   "execution_count": 14,
   "id": "a25e3dbe",
   "metadata": {},
   "outputs": [
    {
     "name": "stdout",
     "output_type": "stream",
     "text": [
      "Enter Number : 30\n",
      "0b11110 in Binary\n",
      "0o36 in Octal\n",
      "0x1e in Hexadecimal\n"
     ]
    }
   ],
   "source": [
    "a = int(input(\"Enter Number : \"))\n",
    "\n",
    "print(f\"{bin(a)} in Binary\")\n",
    "print(f\"{oct(a)} in Octal\")\n",
    "print(f\"{hex(a)} in Hexadecimal\")"
   ]
  },
  {
   "cell_type": "markdown",
   "id": "3b4ea3ab",
   "metadata": {},
   "source": [
    "4.\tWrite a Python Program To Find ASCII value of a character?"
   ]
  },
  {
   "cell_type": "code",
   "execution_count": 35,
   "id": "4728186e",
   "metadata": {},
   "outputs": [
    {
     "name": "stdout",
     "output_type": "stream",
     "text": [
      "Enter character : J\n",
      "Enter character : /\n",
      "ASCII value of character 'J' is 74\n",
      "ASCII value of character '/' is 47\n"
     ]
    }
   ],
   "source": [
    "a = input(\"Enter character : \")\n",
    "b = input(\"Enter character : \")\n",
    "\n",
    "print(f\"ASCII value of character '{a}' is {ord(a)}\")\n",
    "print(f\"ASCII value of character '{b}' is {ord(b)}\")"
   ]
  },
  {
   "cell_type": "markdown",
   "id": "423e630e",
   "metadata": {},
   "source": [
    "5.\tWrite a Python Program to Make a Simple Calculator with 4 basic mathematical operations?"
   ]
  },
  {
   "cell_type": "code",
   "execution_count": 43,
   "id": "cfaa8642",
   "metadata": {},
   "outputs": [
    {
     "name": "stdout",
     "output_type": "stream",
     "text": [
      "Select Operator\n",
      "1 for addition\n",
      "2 for subtraction\n",
      "3 for multiplication\n",
      "4 for division\n",
      "3\n",
      "Enter First Number 63\n",
      "Enter Second Number 25\n",
      "1575\n"
     ]
    }
   ],
   "source": [
    "def add(a,b):\n",
    "    return a+b\n",
    "\n",
    "def sub(a,b):\n",
    "    return a-b\n",
    "\n",
    "def mul(a,b):\n",
    "    return a*b\n",
    "\n",
    "def div(a,b):\n",
    "    return a/b\n",
    "\n",
    "x = int(input(\"Select Operator\\n1 for addition\\n2 for subtraction\\n3 for multiplication\\n4 for division\\n\"))\n",
    "\n",
    "if x == 1:\n",
    "    a = int(input(\"Enter First Number \"))\n",
    "    b = int(input(\"Enter Second Number \"))\n",
    "    print(add(a,b))\n",
    "\n",
    "elif x == 2:\n",
    "    a = int(input(\"Enter First Number \"))\n",
    "    b = int(input(\"Enter Second Number \"))\n",
    "    print(sub(a,b))\n",
    "\n",
    "elif x == 3:\n",
    "    a = int(input(\"Enter First Number \"))\n",
    "    b = int(input(\"Enter Second Number \"))\n",
    "    print(mul(a,b))\n",
    "\n",
    "elif x == 4:\n",
    "    a = int(input(\"Enter First Number \"))\n",
    "    b = int(input(\"Enter Second Number \"))\n",
    "    print(div(a,b))\n",
    "\n",
    "else:\n",
    "    print(\"Select among the given operators\")"
   ]
  }
 ],
 "metadata": {
  "kernelspec": {
   "display_name": "Python 3 (ipykernel)",
   "language": "python",
   "name": "python3"
  },
  "language_info": {
   "codemirror_mode": {
    "name": "ipython",
    "version": 3
   },
   "file_extension": ".py",
   "mimetype": "text/x-python",
   "name": "python",
   "nbconvert_exporter": "python",
   "pygments_lexer": "ipython3",
   "version": "3.11.3"
  }
 },
 "nbformat": 4,
 "nbformat_minor": 5
}
