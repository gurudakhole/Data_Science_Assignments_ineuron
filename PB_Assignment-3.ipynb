{
 "cells": [
  {
   "cell_type": "markdown",
   "id": "973de46f",
   "metadata": {},
   "source": [
    "1. Why are functions advantageous to have in your programs?"
   ]
  },
  {
   "cell_type": "code",
   "execution_count": 2,
   "id": "10fd6529",
   "metadata": {},
   "outputs": [],
   "source": [
    "# because we can use that function by calling it and we do not have to write the whole code every time we need it."
   ]
  },
  {
   "cell_type": "markdown",
   "id": "62b86d96",
   "metadata": {},
   "source": [
    "2. When does the code in a function run: when it's specified or when it's called?"
   ]
  },
  {
   "cell_type": "code",
   "execution_count": 1,
   "id": "b85d087f",
   "metadata": {},
   "outputs": [],
   "source": [
    "# when it's called"
   ]
  },
  {
   "cell_type": "markdown",
   "id": "6898e008",
   "metadata": {},
   "source": [
    "3. What statement creates a function?"
   ]
  },
  {
   "cell_type": "code",
   "execution_count": null,
   "id": "87bc6f54",
   "metadata": {},
   "outputs": [],
   "source": [
    "# \"def\" statement creates a function "
   ]
  },
  {
   "cell_type": "markdown",
   "id": "0c2e8f81",
   "metadata": {},
   "source": [
    "4. What is the difference between a function and a function call?"
   ]
  },
  {
   "cell_type": "code",
   "execution_count": 3,
   "id": "2921c87e",
   "metadata": {},
   "outputs": [],
   "source": [
    "#def of func\n",
    "def my_func(): \n",
    "    pass \n",
    "my_func() #calling of function"
   ]
  },
  {
   "cell_type": "markdown",
   "id": "e98765fb",
   "metadata": {},
   "source": [
    "A function consists of the def statement and the code in its def clause.\n",
    "\n",
    "A function call is what moves the program execution into the function, and the function call evaluates to the function's return value."
   ]
  },
  {
   "cell_type": "markdown",
   "id": "fec7049e",
   "metadata": {},
   "source": [
    "5. How many global scopes are there in a Python program? How many local scopes?"
   ]
  },
  {
   "cell_type": "code",
   "execution_count": 6,
   "id": "95bf0542",
   "metadata": {},
   "outputs": [],
   "source": [
    "# There's only one global Python scope per program execution. \n",
    "# This scope remains in existence until the program terminates , and a local scope is created whenever a function is called."
   ]
  },
  {
   "cell_type": "markdown",
   "id": "a636f7a7",
   "metadata": {},
   "source": [
    "6. What happens to variables in a local scope when the function call returns?"
   ]
  },
  {
   "cell_type": "code",
   "execution_count": 5,
   "id": "44130ac2",
   "metadata": {},
   "outputs": [],
   "source": [
    "# When a function returns, the local scope is destroyed."
   ]
  },
  {
   "cell_type": "markdown",
   "id": "8ec24d4b",
   "metadata": {},
   "source": [
    "7. What is the concept of a return value? Is it possible to have a return value in an expression?"
   ]
  },
  {
   "cell_type": "code",
   "execution_count": 7,
   "id": "ce44e986",
   "metadata": {},
   "outputs": [],
   "source": [
    "# A return value is the value that a function call evaluates to. \n",
    "# Like any value, a return value can be used as part of an expression."
   ]
  },
  {
   "cell_type": "markdown",
   "id": "b2d8d729",
   "metadata": {},
   "source": [
    "8. If a function does not have a return statement, what is the return value of a call to that function?"
   ]
  },
  {
   "cell_type": "code",
   "execution_count": null,
   "id": "c7030166",
   "metadata": {},
   "outputs": [],
   "source": [
    "#  If the funtion does not have a return statement it will not return anything."
   ]
  },
  {
   "cell_type": "markdown",
   "id": "8d767e73",
   "metadata": {},
   "source": [
    "9. How do you make a function variable refer to the global variable?"
   ]
  },
  {
   "cell_type": "code",
   "execution_count": 8,
   "id": "924e9223",
   "metadata": {},
   "outputs": [],
   "source": [
    "# To make function variable as a global variable you can use the global keyword to declare which variables are global."
   ]
  },
  {
   "cell_type": "markdown",
   "id": "326d9cff",
   "metadata": {},
   "source": [
    "10. What is the data type of None?"
   ]
  },
  {
   "cell_type": "code",
   "execution_count": 9,
   "id": "e03061ec",
   "metadata": {},
   "outputs": [
    {
     "data": {
      "text/plain": [
       "NoneType"
      ]
     },
     "execution_count": 9,
     "metadata": {},
     "output_type": "execute_result"
    }
   ],
   "source": [
    "# The data type of None is NoneType.\n",
    "type(None)"
   ]
  },
  {
   "cell_type": "markdown",
   "id": "10d9efa8",
   "metadata": {},
   "source": [
    "11. What does the sentence import areallyourpetsnamederic do?"
   ]
  },
  {
   "cell_type": "code",
   "execution_count": 10,
   "id": "7aa7017a",
   "metadata": {},
   "outputs": [],
   "source": [
    "# The import statement imports a module named areallyourpetsnamederic if it exists."
   ]
  },
  {
   "cell_type": "markdown",
   "id": "0f5bda6f",
   "metadata": {},
   "source": [
    "12. If you had a bacon() feature in a spam module, what would you call it after importing spam?"
   ]
  },
  {
   "cell_type": "markdown",
   "id": "8eb0ac9d",
   "metadata": {},
   "source": [
    "import spam\n",
    "\n",
    "spam.bacon()"
   ]
  },
  {
   "cell_type": "markdown",
   "id": "24e3f534",
   "metadata": {},
   "source": [
    "13. What can you do to save a programme from crashing if it encounters an error?"
   ]
  },
  {
   "cell_type": "code",
   "execution_count": null,
   "id": "6d62bcdf",
   "metadata": {},
   "outputs": [],
   "source": [
    "#  We can use try except clause to save a program from crashing."
   ]
  },
  {
   "cell_type": "markdown",
   "id": "13171f92",
   "metadata": {},
   "source": [
    "14. What is the purpose of the try clause? What is the purpose of the except clause?"
   ]
  },
  {
   "cell_type": "markdown",
   "id": "f79c4c2f",
   "metadata": {},
   "source": [
    "Try and Except clause is used to handle the errors within our code . The try block is used to check some code for errors i.e the code inside the try block will execute when there is no error in the program. Whereas the code inside the except block will execute whenever the program encounters some error in the try block."
   ]
  },
  {
   "cell_type": "code",
   "execution_count": null,
   "id": "1fc8289e",
   "metadata": {},
   "outputs": [],
   "source": [
    "# Example\n",
    "try:\n",
    "# Code\n",
    "except:\n",
    "# Executed if error in the\n",
    "# try block"
   ]
  }
 ],
 "metadata": {
  "kernelspec": {
   "display_name": "Python 3 (ipykernel)",
   "language": "python",
   "name": "python3"
  },
  "language_info": {
   "codemirror_mode": {
    "name": "ipython",
    "version": 3
   },
   "file_extension": ".py",
   "mimetype": "text/x-python",
   "name": "python",
   "nbconvert_exporter": "python",
   "pygments_lexer": "ipython3",
   "version": "3.11.3"
  }
 },
 "nbformat": 4,
 "nbformat_minor": 5
}
